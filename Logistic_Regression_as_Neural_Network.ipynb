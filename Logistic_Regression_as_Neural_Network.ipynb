{
 "cells": [
  {
   "cell_type": "code",
   "execution_count": 2,
   "id": "4845596c",
   "metadata": {},
   "outputs": [],
   "source": [
    "train_path1=\"D:/6th Semester/Conversational AI-NLP/Lab/Image Dataset/train/bikes/\"\n",
    "train_path2=\"D:/6th Semester/Conversational AI-NLP/Lab/Image Dataset/train/planes/\"\n",
    "test_path1=\"D:/6th Semester/Conversational AI-NLP/Lab/Image Dataset/test/bikes/\"\n",
    "test_path2=\"D:/6th Semester/Conversational AI-NLP/Lab/Image Dataset/test/planes/\""
   ]
  },
  {
   "cell_type": "code",
   "execution_count": 3,
   "id": "b389d30c",
   "metadata": {},
   "outputs": [],
   "source": [
    "import numpy as np\n",
    "train_x=np.zeros((12288,1500))\n",
    "train_y=np.zeros((1,1500))\n",
    "test_x=np.zeros((12288,98))\n",
    "test_y=np.zeros((1,98))"
   ]
  },
  {
   "cell_type": "code",
   "execution_count": 4,
   "id": "a41a79d0",
   "metadata": {},
   "outputs": [
    {
     "name": "stdout",
     "output_type": "stream",
     "text": [
      "Collecting keras\n",
      "  Downloading keras-2.8.0-py2.py3-none-any.whl (1.4 MB)\n",
      "     ---------------------------------------- 1.4/1.4 MB 1.1 MB/s eta 0:00:00\n",
      "Installing collected packages: keras\n",
      "Successfully installed keras-2.8.0\n"
     ]
    },
    {
     "name": "stderr",
     "output_type": "stream",
     "text": [
      "WARNING: You are using pip version 22.0.3; however, version 22.0.4 is available.\n",
      "You should consider upgrading via the 'c:\\users\\acer\\appdata\\local\\programs\\python\\python39\\python.exe -m pip install --upgrade pip' command.\n"
     ]
    }
   ],
   "source": [
    "!pip install keras"
   ]
  },
  {
   "cell_type": "code",
   "execution_count": 8,
   "id": "8a0b032f",
   "metadata": {},
   "outputs": [
    {
     "name": "stdout",
     "output_type": "stream",
     "text": [
      "Collecting tensorflow\n",
      "  Downloading tensorflow-2.8.0-cp39-cp39-win_amd64.whl (438.0 MB)\n",
      "     ------------------------------------ 438.0/438.0 MB 982.4 kB/s eta 0:00:00\n",
      "Requirement already satisfied: keras<2.9,>=2.8.0rc0 in c:\\users\\acer\\appdata\\local\\programs\\python\\python39\\lib\\site-packages (from tensorflow) (2.8.0)\n",
      "Collecting wrapt>=1.11.0\n",
      "  Downloading wrapt-1.14.0-cp39-cp39-win_amd64.whl (36 kB)\n",
      "Collecting keras-preprocessing>=1.1.1\n",
      "  Downloading Keras_Preprocessing-1.1.2-py2.py3-none-any.whl (42 kB)\n",
      "     -------------------------------------- 42.6/42.6 KB 688.1 kB/s eta 0:00:00\n",
      "Collecting google-pasta>=0.1.1\n",
      "  Downloading google_pasta-0.2.0-py3-none-any.whl (57 kB)\n",
      "     -------------------------------------- 57.5/57.5 KB 104.3 kB/s eta 0:00:00\n",
      "Collecting opt-einsum>=2.3.2\n",
      "  Downloading opt_einsum-3.3.0-py3-none-any.whl (65 kB)\n",
      "     -------------------------------------- 65.5/65.5 KB 891.1 kB/s eta 0:00:00\n",
      "Requirement already satisfied: six>=1.12.0 in c:\\users\\acer\\appdata\\local\\programs\\python\\python39\\lib\\site-packages (from tensorflow) (1.16.0)\n",
      "Collecting tf-estimator-nightly==2.8.0.dev2021122109\n",
      "  Downloading tf_estimator_nightly-2.8.0.dev2021122109-py2.py3-none-any.whl (462 kB)\n",
      "     -------------------------------------- 462.5/462.5 KB 1.7 MB/s eta 0:00:00\n",
      "Requirement already satisfied: numpy>=1.20 in c:\\users\\acer\\appdata\\local\\programs\\python\\python39\\lib\\site-packages (from tensorflow) (1.21.4)\n",
      "Collecting h5py>=2.9.0\n",
      "  Downloading h5py-3.6.0-cp39-cp39-win_amd64.whl (2.8 MB)\n",
      "     ---------------------------------------- 2.8/2.8 MB 1.4 MB/s eta 0:00:00\n",
      "Collecting protobuf>=3.9.2\n",
      "  Using cached protobuf-3.19.4-cp39-cp39-win_amd64.whl (895 kB)\n",
      "Requirement already satisfied: setuptools in c:\\users\\acer\\appdata\\local\\programs\\python\\python39\\lib\\site-packages (from tensorflow) (60.9.3)\n",
      "Collecting flatbuffers>=1.12\n",
      "  Downloading flatbuffers-2.0-py2.py3-none-any.whl (26 kB)\n",
      "Collecting termcolor>=1.1.0\n",
      "  Downloading termcolor-1.1.0.tar.gz (3.9 kB)\n",
      "  Preparing metadata (setup.py): started\n",
      "  Preparing metadata (setup.py): finished with status 'done'\n",
      "Collecting astunparse>=1.6.0\n",
      "  Downloading astunparse-1.6.3-py2.py3-none-any.whl (12 kB)\n",
      "Collecting libclang>=9.0.1\n",
      "  Downloading libclang-13.0.0-py2.py3-none-win_amd64.whl (13.9 MB)\n",
      "     ---------------------------------------- 13.9/13.9 MB 1.7 MB/s eta 0:00:00\n",
      "Requirement already satisfied: typing-extensions>=3.6.6 in c:\\users\\acer\\appdata\\local\\programs\\python\\python39\\lib\\site-packages (from tensorflow) (4.1.1)\n",
      "Collecting gast>=0.2.1\n",
      "  Downloading gast-0.5.3-py3-none-any.whl (19 kB)\n",
      "Collecting tensorboard<2.9,>=2.8\n",
      "  Downloading tensorboard-2.8.0-py3-none-any.whl (5.8 MB)\n",
      "     ---------------------------------------- 5.8/5.8 MB 1.6 MB/s eta 0:00:00\n",
      "Collecting absl-py>=0.4.0\n",
      "  Downloading absl_py-1.0.0-py3-none-any.whl (126 kB)\n",
      "     ------------------------------------ 126.7/126.7 KB 573.5 kB/s eta 0:00:00\n",
      "Collecting tensorflow-io-gcs-filesystem>=0.23.1\n",
      "  Downloading tensorflow_io_gcs_filesystem-0.24.0-cp39-cp39-win_amd64.whl (1.5 MB)\n",
      "     ---------------------------------------- 1.5/1.5 MB 1.8 MB/s eta 0:00:00\n",
      "Collecting grpcio<2.0,>=1.24.3\n",
      "  Downloading grpcio-1.44.0-cp39-cp39-win_amd64.whl (3.4 MB)\n",
      "     ---------------------------------------- 3.4/3.4 MB 1.5 MB/s eta 0:00:00\n",
      "Requirement already satisfied: wheel<1.0,>=0.23.0 in c:\\users\\acer\\appdata\\local\\programs\\python\\python39\\lib\\site-packages (from astunparse>=1.6.0->tensorflow) (0.37.1)\n",
      "Collecting markdown>=2.6.8\n",
      "  Downloading Markdown-3.3.6-py3-none-any.whl (97 kB)\n",
      "     -------------------------------------- 97.8/97.8 KB 557.7 kB/s eta 0:00:00\n",
      "Collecting tensorboard-plugin-wit>=1.6.0\n",
      "  Downloading tensorboard_plugin_wit-1.8.1-py3-none-any.whl (781 kB)\n",
      "     -------------------------------------- 781.3/781.3 KB 1.1 MB/s eta 0:00:00\n",
      "Requirement already satisfied: werkzeug>=0.11.15 in c:\\users\\acer\\appdata\\local\\programs\\python\\python39\\lib\\site-packages (from tensorboard<2.9,>=2.8->tensorflow) (2.0.2)\n",
      "Collecting google-auth<3,>=1.6.3\n",
      "  Downloading google_auth-2.6.0-py2.py3-none-any.whl (156 kB)\n",
      "     -------------------------------------- 156.3/156.3 KB 1.3 MB/s eta 0:00:00\n",
      "Collecting tensorboard-data-server<0.7.0,>=0.6.0\n",
      "  Downloading tensorboard_data_server-0.6.1-py3-none-any.whl (2.4 kB)\n",
      "Collecting google-auth-oauthlib<0.5,>=0.4.1\n",
      "  Downloading google_auth_oauthlib-0.4.6-py2.py3-none-any.whl (18 kB)\n",
      "Requirement already satisfied: requests<3,>=2.21.0 in c:\\users\\acer\\appdata\\local\\programs\\python\\python39\\lib\\site-packages (from tensorboard<2.9,>=2.8->tensorflow) (2.26.0)\n",
      "Collecting rsa<5,>=3.1.4\n",
      "  Downloading rsa-4.8-py3-none-any.whl (39 kB)\n",
      "Collecting cachetools<6.0,>=2.0.0\n",
      "  Downloading cachetools-5.0.0-py3-none-any.whl (9.1 kB)\n",
      "Collecting pyasn1-modules>=0.2.1\n",
      "  Downloading pyasn1_modules-0.2.8-py2.py3-none-any.whl (155 kB)\n",
      "     -------------------------------------- 155.3/155.3 KB 1.3 MB/s eta 0:00:00\n",
      "Collecting requests-oauthlib>=0.7.0\n",
      "  Downloading requests_oauthlib-1.3.1-py2.py3-none-any.whl (23 kB)\n",
      "Collecting importlib-metadata>=4.4\n",
      "  Downloading importlib_metadata-4.11.2-py3-none-any.whl (17 kB)\n",
      "Requirement already satisfied: idna<4,>=2.5 in c:\\users\\acer\\appdata\\local\\programs\\python\\python39\\lib\\site-packages (from requests<3,>=2.21.0->tensorboard<2.9,>=2.8->tensorflow) (3.3)\n",
      "Requirement already satisfied: charset-normalizer~=2.0.0 in c:\\users\\acer\\appdata\\local\\programs\\python\\python39\\lib\\site-packages (from requests<3,>=2.21.0->tensorboard<2.9,>=2.8->tensorflow) (2.0.7)\n",
      "Requirement already satisfied: certifi>=2017.4.17 in c:\\users\\acer\\appdata\\local\\programs\\python\\python39\\lib\\site-packages (from requests<3,>=2.21.0->tensorboard<2.9,>=2.8->tensorflow) (2021.10.8)\n",
      "Requirement already satisfied: urllib3<1.27,>=1.21.1 in c:\\users\\acer\\appdata\\local\\programs\\python\\python39\\lib\\site-packages (from requests<3,>=2.21.0->tensorboard<2.9,>=2.8->tensorflow) (1.26.7)\n",
      "Collecting zipp>=0.5\n",
      "  Using cached zipp-3.7.0-py3-none-any.whl (5.3 kB)\n",
      "Collecting pyasn1<0.5.0,>=0.4.6\n",
      "  Downloading pyasn1-0.4.8-py2.py3-none-any.whl (77 kB)\n",
      "     ---------------------------------------- 77.1/77.1 KB 1.1 MB/s eta 0:00:00\n",
      "Collecting oauthlib>=3.0.0\n",
      "  Downloading oauthlib-3.2.0-py3-none-any.whl (151 kB)\n",
      "     -------------------------------------- 151.5/151.5 KB 1.1 MB/s eta 0:00:00\n",
      "Building wheels for collected packages: termcolor\n",
      "  Building wheel for termcolor (setup.py): started\n",
      "  Building wheel for termcolor (setup.py): finished with status 'done'\n",
      "  Created wheel for termcolor: filename=termcolor-1.1.0-py3-none-any.whl size=4848 sha256=4a1bd3fbb8d7be3078e821f780aae69be5df770fe3634ad33246bb957e5ec23d\n",
      "  Stored in directory: c:\\users\\acer\\appdata\\local\\pip\\cache\\wheels\\b6\\0d\\90\\0d1bbd99855f99cb2f6c2e5ff96f8023fad8ec367695f7d72d\n",
      "Successfully built termcolor\n",
      "Installing collected packages: tf-estimator-nightly, termcolor, tensorboard-plugin-wit, pyasn1, libclang, flatbuffers, zipp, wrapt, tensorflow-io-gcs-filesystem, tensorboard-data-server, rsa, pyasn1-modules, protobuf, opt-einsum, oauthlib, keras-preprocessing, h5py, grpcio, google-pasta, gast, cachetools, astunparse, absl-py, requests-oauthlib, importlib-metadata, google-auth, markdown, google-auth-oauthlib, tensorboard, tensorflow\n",
      "Successfully installed absl-py-1.0.0 astunparse-1.6.3 cachetools-5.0.0 flatbuffers-2.0 gast-0.5.3 google-auth-2.6.0 google-auth-oauthlib-0.4.6 google-pasta-0.2.0 grpcio-1.44.0 h5py-3.6.0 importlib-metadata-4.11.2 keras-preprocessing-1.1.2 libclang-13.0.0 markdown-3.3.6 oauthlib-3.2.0 opt-einsum-3.3.0 protobuf-3.19.4 pyasn1-0.4.8 pyasn1-modules-0.2.8 requests-oauthlib-1.3.1 rsa-4.8 tensorboard-2.8.0 tensorboard-data-server-0.6.1 tensorboard-plugin-wit-1.8.1 tensorflow-2.8.0 tensorflow-io-gcs-filesystem-0.24.0 termcolor-1.1.0 tf-estimator-nightly-2.8.0.dev2021122109 wrapt-1.14.0 zipp-3.7.0\n"
     ]
    }
   ],
   "source": [
    "!pip install tensorflow"
   ]
  },
  {
   "cell_type": "code",
   "execution_count": 12,
   "id": "b8bdda75",
   "metadata": {},
   "outputs": [],
   "source": [
    "import os\n",
    "from keras.preprocessing import image\n",
    "train_files1=os.listdir(train_path1)\n",
    "train_files2=os.listdir(train_path2)\n",
    "for i in range(len(train_files1)):\n",
    "    img=image.load_img(train_path1+train_files1[i],target_size=(64,64))\n",
    "    arr=np.array(img)\n",
    "    arr=arr.flatten()\n",
    "    train_x[:,i]=arr;\n",
    "    train_y[0,i]=0\n",
    "for i in range(len(train_files2)):\n",
    "    img=image.load_img(train_path2+train_files2[i],target_size=(64,64))\n",
    "    arr=np.array(img)\n",
    "    arr=arr.flatten()\n",
    "    train_x[:,i+750]=arr;\n",
    "    train_y[0,i+750]=1"
   ]
  },
  {
   "cell_type": "code",
   "execution_count": 13,
   "id": "b2f94dfc",
   "metadata": {},
   "outputs": [],
   "source": [
    "test_files1=os.listdir(test_path1)\n",
    "test_files2=os.listdir(test_path2)\n",
    "for i in range(len(test_files1)):\n",
    "    img=image.load_img(test_path1+test_files1[i],target_size=(64,64))\n",
    "    arr=np.array(img)\n",
    "    arr=arr.flatten()\n",
    "    test_x[:,i]=arr;\n",
    "    test_y[0,i]=0\n",
    "for i in range(len(test_files2)):\n",
    "    img=image.load_img(test_path2+test_files2[i],target_size=(64,64))\n",
    "    arr=np.array(img)\n",
    "    arr=arr.flatten()\n",
    "    test_x[:,i+48]=arr;\n",
    "    test_y[0,i+48]=1"
   ]
  },
  {
   "cell_type": "code",
   "execution_count": 14,
   "id": "2d1ae42b",
   "metadata": {},
   "outputs": [],
   "source": [
    "train_x=train_x/255.0\n",
    "test_x=test_x/255.0"
   ]
  },
  {
   "cell_type": "code",
   "execution_count": 15,
   "id": "2c70af92",
   "metadata": {},
   "outputs": [],
   "source": [
    "def sigmoid(z):\n",
    "    return 1/(1+np.exp(-z))"
   ]
  },
  {
   "cell_type": "code",
   "execution_count": 16,
   "id": "66529aae",
   "metadata": {},
   "outputs": [],
   "source": [
    "def init_params(dimension):\n",
    "    w=np.zeros((dimension,1))\n",
    "    b=0\n",
    "    return w,b"
   ]
  },
  {
   "cell_type": "code",
   "execution_count": 25,
   "id": "95397e68",
   "metadata": {},
   "outputs": [],
   "source": [
    "def propagate(w,b,X,Y):\n",
    "    n=X.shape[1]\n",
    "    #forward pass\n",
    "    predicted=sigmoid(np.dot(w.T,X)+b)\n",
    "    cost=(-1/n)*np.sum(np.multiply(Y,np.log(predicted))+np.multiply((1-Y),np.log(1-predicted)))\n",
    "    #backward pass\n",
    "    dw=(1/n)*np.dot(X,(predicted-Y).T)\n",
    "    db=(1/n)*np.sum(predicted-Y)\n",
    "    grads={\"dw\":dw,\"db\":db}\n",
    "    cost=np.squeeze(cost)\n",
    "    return grads,cost"
   ]
  },
  {
   "cell_type": "code",
   "execution_count": 26,
   "id": "0176077c",
   "metadata": {},
   "outputs": [],
   "source": [
    "def train(w,b,X,Y,epochs,lr):\n",
    "    costs=[]\n",
    "    for i in range(epochs):\n",
    "        grads,cost=propagate(w,b,X,Y)\n",
    "        dw=grads['dw']\n",
    "        db=grads['db']\n",
    "        w=w-(lr*dw)\n",
    "        b=b-(lr*b)\n",
    "        if(i%10==0):\n",
    "            costs.append(cost)\n",
    "            print(\"Cost after %i iterations: %f\"%(i,cost))\n",
    "    params={\"w\":w,\"b\":b}\n",
    "    return params,costs"
   ]
  },
  {
   "cell_type": "code",
   "execution_count": 27,
   "id": "ec4f37a8",
   "metadata": {},
   "outputs": [],
   "source": [
    "def predict(w,b,X):\n",
    "    A=sigmoid(np.dot(w.T,X)+b)\n",
    "    Y_predict=np.zeros((1,X.shape[1]))\n",
    "    for i in range(len(A)):\n",
    "        if(A[0,i]>0.5):\n",
    "            Y_predict[0,i]=1\n",
    "        else:\n",
    "            Y_predict[0,i]=0\n",
    "        return Y_predict"
   ]
  },
  {
   "cell_type": "code",
   "execution_count": 28,
   "id": "c7ec0dbc",
   "metadata": {},
   "outputs": [],
   "source": [
    "def model(X_train,Y_train,X_test,Y_test,epochs,lr):\n",
    "    w,b=init_params(X_train.shape[0])\n",
    "    params,costs=train(w,b,X_train,Y_train,epochs,lr)\n",
    "    w=params['w']\n",
    "    b=params['b']\n",
    "    Y_test_predicted=predict(w,b,X_test)\n",
    "    print(\"test_accuracy : {} %\".format(100-np.mean(np.abs(Y_test_predicted - Y_test)) * 100))"
   ]
  },
  {
   "cell_type": "code",
   "execution_count": 29,
   "id": "137f8462",
   "metadata": {},
   "outputs": [
    {
     "name": "stdout",
     "output_type": "stream",
     "text": [
      "Cost after 0 iterations: 0.693147\n",
      "Cost after 10 iterations: 0.667648\n",
      "Cost after 20 iterations: 0.651027\n",
      "Cost after 30 iterations: 0.635813\n",
      "Cost after 40 iterations: 0.621420\n",
      "Cost after 50 iterations: 0.607762\n",
      "Cost after 60 iterations: 0.594792\n",
      "Cost after 70 iterations: 0.582469\n",
      "Cost after 80 iterations: 0.570754\n",
      "Cost after 90 iterations: 0.559611\n",
      "test_accuracy : 48.97959183673469 %\n"
     ]
    }
   ],
   "source": [
    "model(train_x,train_y,test_x,test_y,100,0.0001)"
   ]
  }
 ],
 "metadata": {
  "kernelspec": {
   "display_name": "Python 3 (ipykernel)",
   "language": "python",
   "name": "python3"
  },
  "language_info": {
   "codemirror_mode": {
    "name": "ipython",
    "version": 3
   },
   "file_extension": ".py",
   "mimetype": "text/x-python",
   "name": "python",
   "nbconvert_exporter": "python",
   "pygments_lexer": "ipython3",
   "version": "3.9.6"
  }
 },
 "nbformat": 4,
 "nbformat_minor": 5
}
